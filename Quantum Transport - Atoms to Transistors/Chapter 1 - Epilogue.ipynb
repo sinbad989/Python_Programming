{
 "cells": [
  {
   "cell_type": "markdown",
   "metadata": {},
   "source": [
    "# 1. Prologue: an atomistic view of electrical resistance"
   ]
  },
  {
   "cell_type": "code",
   "execution_count": 17,
   "metadata": {},
   "outputs": [],
   "source": [
    "import numpy as np\n",
    "import matplotlib.pyplot as plt"
   ]
  },
  {
   "cell_type": "markdown",
   "metadata": {},
   "source": [
    "# 1.3 The Quantum of Conductance "
   ]
  },
  {
   "cell_type": "code",
   "execution_count": 18,
   "metadata": {},
   "outputs": [],
   "source": [
    "def DOS(E,gam,ep):\n",
    "    return (gam/(2*np.pi))/((E-ep)**2 + (gam/2)**2)"
   ]
  },
  {
   "cell_type": "code",
   "execution_count": 19,
   "metadata": {},
   "outputs": [
    {
     "data": {
      "text/plain": [
       "[<matplotlib.lines.Line2D at 0x94cbe80>]"
      ]
     },
     "execution_count": 19,
     "metadata": {},
     "output_type": "execute_result"
    },
    {
     "data": {
      "image/png": "[encoded data removed]",
      "text/plain": [
       "<Figure size 432x288 with 1 Axes>"
      ]
     },
     "metadata": {
      "needs_background": "light"
     },
     "output_type": "display_data"
    }
   ],
   "source": [
    "E = np.linspace(-0.5,0.5,100)\n",
    "dE = E[1]-E[0]\n",
    "D = DOS(E,0.05,0)\n",
    "plt.plot(E,D)"
   ]
  },
  {
   "cell_type": "code",
   "execution_count": 20,
   "metadata": {},
   "outputs": [
    {
     "data": {
      "text/plain": [
       "[<matplotlib.lines.Line2D at 0x545b898>]"
      ]
     },
     "execution_count": 20,
     "metadata": {},
     "output_type": "execute_result"
    },
    {
     "data": {
      "image/png": "[encoded data removed]",
      "text/plain": [
       "<Figure size 432x288 with 1 Axes>"
      ]
     },
     "metadata": {
      "needs_background": "light"
     },
     "output_type": "display_data"
    }
   ],
   "source": [
    "E = np.linspace(-0.5,0.5,100)\n",
    "D = DOS(E,0.00001,0)\n",
    "plt.plot(E,D)"
   ]
  },
  {
   "cell_type": "markdown",
   "metadata": {},
   "source": [
    "# 1.4 Potential Profile"
   ]
  },
  {
   "cell_type": "code",
   "execution_count": 21,
   "metadata": {},
   "outputs": [],
   "source": [
    "def potential(Vg,Vd,U0,delN,a,b):\n",
    "    q = 1\n",
    "    UL =(a)*(-q*Vg)+(b)*(-q*Vd)\n",
    "    U = UL + U0*(delN)\n",
    "    return U \n",
    "\n",
    "def fermi_dirac(E,mu,kbT):\n",
    "    return 1/(1+np.exp((E-mu)/kbT))\n",
    "\n",
    "def DOS(E,gam,ep):\n",
    "    dE = E[1]-E[0]\n",
    "    D = (gam/(2*np.pi))/((E-ep)**2 + (gam/2)**2)\n",
    "    return D/(dE*(np.sum(D))) # normalizing to one\n",
    "\n",
    "def number_of_electrons(U,gam1,gam2,mu1,mu2,kbT,ep):\n",
    "    E = np.linspace(-1,1,501)\n",
    "    dE = E[1]-E[0]\n",
    "    gam = gam1 + gam2\n",
    "    d = DOS(E-U,gam,ep)\n",
    "    f1 = fermi_dirac(E,mu1,kbT)\n",
    "    f2 = fermi_dirac(E,mu2,kbT)\n",
    "    c = (gam1*f1 + gam2*f2)/(gam)\n",
    "    N = np.sum(dE*d*c)\n",
    "    return N\n",
    "\n",
    "def current(U,gam1,gam2,mu1,mu2,kbT,ep):\n",
    "    E = np.linspace(-1,1,501)\n",
    "    dE = E[1]-E[0]\n",
    "    d = DOS(E-U,gam1+gam2,ep)\n",
    "    f1 = fermi_dirac(E,mu1,kbT)\n",
    "    f2 = fermi_dirac(E,mu2,kbT)\n",
    "    c = (gam1*gam2)/(gam1+gam2)\n",
    "    q = 1.602e-19\n",
    "    hbar = 1.055e-34    \n",
    "    I = (q*q/hbar)*np.sum(dE*d*c*(f1-f2))\n",
    "    return I"
   ]
  },
  {
   "cell_type": "code",
   "execution_count": 22,
   "metadata": {},
   "outputs": [],
   "source": [
    "# physical parameter\n",
    "U0 = 0.025\n",
    "Vd = 0\n",
    "Vg = 0 \n",
    "a = 1\n",
    "b = 0.5\n",
    "gam1 = gam2 = 0.005\n",
    "mu1=0\n",
    "mu2=mu1-Vd\n",
    "ep = 0.2\n",
    "kbT = 0.025\n",
    "\n",
    "# arbitrary parameter \n",
    "Ui = 1 # initial guess for U\n",
    "alpha = 0.99\n",
    "V = np.linspace(0,1,100)\n",
    "ele = []\n",
    "curr = []\n",
    "\n",
    "for i in range(0,len(V)):\n",
    "    # bias\n",
    "    Vd = V[i]\n",
    "    mu1=0\n",
    "    mu2=mu1-Vd\n",
    "    N0 = 1 #number_of_electrons(ep,gam1,gam2,mu1,mu2,kbT,ep)\n",
    "    \n",
    "    # the self-consistency test\n",
    "    while True:\n",
    "        N = number_of_electrons(Ui,gam1,gam2,mu1,mu2,kbT,ep)\n",
    "        delN = N-N0\n",
    "        U_new = potential(Vg,Vd,U0,delN,a,b)\n",
    "        if abs(U_new-Ui) < 0.00001:\n",
    "            break\n",
    "        Ui = Ui + alpha*(U_new-Ui)\n",
    "    I = current(Ui,gam1,gam2,mu1,mu2,kbT,ep)\n",
    "    ele.append(N)\n",
    "    curr.append(I)"
   ]
  },
  {
   "cell_type": "code",
   "execution_count": 23,
   "metadata": {},
   "outputs": [
    {
     "data": {
      "text/plain": [
       "[<matplotlib.lines.Line2D at 0x54bf358>]"
      ]
     },
     "execution_count": 23,
     "metadata": {},
     "output_type": "execute_result"
    },
    {
     "data": {
      "image/png": "[encoded data removed]",
      "text/plain": [
       "<Figure size 432x288 with 1 Axes>"
      ]
     },
     "metadata": {
      "needs_background": "light"
     },
     "output_type": "display_data"
    }
   ],
   "source": [
    "plt.plot(V,ele)"
   ]
  },
  {
   "cell_type": "code",
   "execution_count": 24,
   "metadata": {},
   "outputs": [
    {
     "data": {
      "text/plain": [
       "[<matplotlib.lines.Line2D at 0x551a0b8>]"
      ]
     },
     "execution_count": 24,
     "metadata": {},
     "output_type": "execute_result"
    },
    {
     "data": {
      "image/png": "[encoded data removed]",
      "text/plain": [
       "<Figure size 432x288 with 1 Axes>"
      ]
     },
     "metadata": {
      "needs_background": "light"
     },
     "output_type": "display_data"
    }
   ],
   "source": [
    "plt.plot(V,curr)"
   ]
  },
  {
   "cell_type": "code",
   "execution_count": 25,
   "metadata": {},
   "outputs": [],
   "source": [
    "# 1.5 Coulomb Blockade"
   ]
  },
  {
   "cell_type": "code",
   "execution_count": 26,
   "metadata": {},
   "outputs": [],
   "source": [
    "E = np.linspace(-5,5,501)\n",
    "D = 2*DOS(E,0.05,0)"
   ]
  },
  {
   "cell_type": "code",
   "execution_count": 27,
   "metadata": {},
   "outputs": [],
   "source": [
    "U0 = 0.25\n",
    "D = DOS(E-U0,0.05,0)\n",
    "D2 = D + DOS(E+U0,0.05,0)"
   ]
  },
  {
   "cell_type": "code",
   "execution_count": 28,
   "metadata": {},
   "outputs": [
    {
     "data": {
      "text/plain": [
       "[<matplotlib.lines.Line2D at 0x5573320>]"
      ]
     },
     "execution_count": 28,
     "metadata": {},
     "output_type": "execute_result"
    },
    {
     "data": {
      "image/png": "[encoded data removed]",
      "text/plain": [
       "<Figure size 432x288 with 1 Axes>"
      ]
     },
     "metadata": {
      "needs_background": "light"
     },
     "output_type": "display_data"
    }
   ],
   "source": [
    "plt.plot(E,D2)"
   ]
  },
  {
   "cell_type": "markdown",
   "metadata": {},
   "source": [
    "# Exercises\n"
   ]
  },
  {
   "cell_type": "code",
   "execution_count": 29,
   "metadata": {},
   "outputs": [],
   "source": [
    "## E.1.3\n",
    "def current(U,gam1,gam2,mu1,mu2,kbT1,kbT2,ep):\n",
    "    E = np.linspace(-1,1,101)\n",
    "    dE = E[1]-E[0]\n",
    "    d = DOS(E-U,gam1+gam2,ep)\n",
    "    f1 = fermi_dirac(E,mu1,kbT1)\n",
    "    f2 = fermi_dirac(E,mu2,kbT2)\n",
    "    c = (gam1*gam2)/(gam1+gam2)\n",
    "    q = 1.602e-19\n",
    "    hbar = 1.055e-34    \n",
    "    I = 2*(q*q/hbar)*np.sum(dE*d*c*(f1-f2))\n",
    "    return I\n",
    "\n",
    "V = np.linspace(-0.25,0.25,101)\n",
    "test  = []\n",
    "for i in range(0,len(V)):\n",
    "    mu1 = ep+V[i]\n",
    "    I = current(0,0.05,0.05,mu1,mu1,0.026,0.025,0.2)\n",
    "    test.append(I)"
   ]
  },
  {
   "cell_type": "code",
   "execution_count": 30,
   "metadata": {},
   "outputs": [
    {
     "data": {
      "text/plain": [
       "[<matplotlib.lines.Line2D at 0x94d9a20>]"
      ]
     },
     "execution_count": 30,
     "metadata": {},
     "output_type": "execute_result"
    },
    {
     "data": {
      "image/png": "[encoded data removed]",
      "text/plain": [
       "<Figure size 432x288 with 1 Axes>"
      ]
     },
     "metadata": {
      "needs_background": "light"
     },
     "output_type": "display_data"
    }
   ],
   "source": [
    "plt.plot(V,test)"
   ]
  },
  {
   "cell_type": "code",
   "execution_count": null,
   "metadata": {},
   "outputs": [],
   "source": []
  }
 ],
 "metadata": {
  "kernelspec": {
   "display_name": "Python 3",
   "language": "python",
   "name": "python3"
  },
  "language_info": {
   "codemirror_mode": {
    "name": "ipython",
    "version": 3
   },
   "file_extension": ".py",
   "mimetype": "text/x-python",
   "name": "python",
   "nbconvert_exporter": "python",
   "pygments_lexer": "ipython3",
   "version": "3.7.1"
  }
 },
 "nbformat": 4,
 "nbformat_minor": 2
}
