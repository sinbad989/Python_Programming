{
 "cells": [
  {
   "cell_type": "code",
   "execution_count": 12,
   "metadata": {},
   "outputs": [],
   "source": [
    "import scipy.sparse as spsp\n",
    "from scipy.sparse.linalg import eigs\n",
    "import matplotlib.pyplot as plt\n",
    "import numpy as np\n",
    "from numpy.linalg import eigh,eig"
   ]
  },
  {
   "cell_type": "markdown",
   "metadata": {},
   "source": [
    "# 3. Self-consistent field\n",
    "\n",
    "- as we move to multi-eletron atoms, we are faced with the issue of electron-electron interactions, which is at the heart of almost all the unsolved problems in our field. \n",
    "\n",
    "Goal: \n",
    "- explain the `self-consistent field (SCF)` procedure, which provides an approximate way to include electron-electron interactions into the Schrodinger equation\n",
    "- the interpretation of the energy levels obtained from this so-called \"one-electron\" Schrodinger equations\n",
    "- the energetic considerations underlying the process by which atoms \"bond\" to form molecules"
   ]
  },
  {
   "cell_type": "code",
   "execution_count": 13,
   "metadata": {},
   "outputs": [],
   "source": [
    "def hamiltonian(U,N,L):\n",
    "    #Physical parameters\n",
    "    hbar = 1.0545718e-34\n",
    "    m = 9.10938356e-31\n",
    "    q = (1.6021766208e-19)\n",
    "    ep = 8.85e-12\n",
    "    a = (L)*2/N\n",
    "    r = np.arange(1,N+1)*a\n",
    "    t0 = (hbar**2/(2*m*a**2))/q\n",
    "    a = (L)*2/N\n",
    "    \n",
    "    # 1s\n",
    "    n = 1 ; l=0 \n",
    "    \n",
    "    v0 = -(q)/(4*np.pi*ep*r) + l*(l+1)*(hbar**2)/(2*m*q*(r**2)) + U\n",
    "\n",
    "    # Hamiltonian \n",
    "    H = np.diagflat([-t0]*(N-1),-1) + np.diagflat([2*t0]*N,0) + np.diagflat([-t0]*(N-1),1)\n",
    "    V = np.diagflat([v0])\n",
    "    return H+V"
   ]
  },
  {
   "cell_type": "code",
   "execution_count": 14,
   "metadata": {},
   "outputs": [],
   "source": [
    "Z=2\n",
    "Uscf = 0\n",
    "H = hamiltonian(Uscf,100,5e-10)\n",
    "val,vect = eig(H)"
   ]
  },
  {
   "cell_type": "code",
   "execution_count": 15,
   "metadata": {},
   "outputs": [],
   "source": [
    "#y00 = np.sqrt(1/(4*np.pi))\n",
    "#y10 = np.sqrt()\n",
    "#n = (f1*np.conj(f1)/(r[0]**2))*(y00)**2 + (f2*np.conj(f2)/(r[1]**2))*(y10)**2"
   ]
  },
  {
   "cell_type": "code",
   "execution_count": 16,
   "metadata": {},
   "outputs": [
    {
     "ename": "SyntaxError",
     "evalue": "invalid syntax (<ipython-input-16-6c729764651f>, line 5)",
     "output_type": "error",
     "traceback": [
      "\u001b[1;36m  File \u001b[1;32m\"<ipython-input-16-6c729764651f>\"\u001b[1;36m, line \u001b[1;32m5\u001b[0m\n\u001b[1;33m    a =\u001b[0m\n\u001b[1;37m        ^\u001b[0m\n\u001b[1;31mSyntaxError\u001b[0m\u001b[1;31m:\u001b[0m invalid syntax\n"
     ]
    }
   ],
   "source": [
    "f1 = vect[0]\n",
    "f2 = vect[1]\n",
    "\n",
    "sigma = (f1*np.conj(f1))**2 + (f2*np.conj(f2))**2\n",
    "a = \n",
    "Uscf = (Z-1)/Z*(q/(4*np.pi*ep*r))*(a+b)"
   ]
  },
  {
   "cell_type": "code",
   "execution_count": 17,
   "metadata": {},
   "outputs": [
    {
     "ename": "NameError",
     "evalue": "name 'N' is not defined",
     "output_type": "error",
     "traceback": [
      "\u001b[1;31m---------------------------------------------------------------------------\u001b[0m",
      "\u001b[1;31mNameError\u001b[0m                                 Traceback (most recent call last)",
      "\u001b[1;32m<ipython-input-17-cdb412001563>\u001b[0m in \u001b[0;36m<module>\u001b[1;34m\u001b[0m\n\u001b[1;32m----> 1\u001b[1;33m \u001b[0ma\u001b[0m \u001b[1;33m=\u001b[0m \u001b[1;33m(\u001b[0m\u001b[1;36m5e-10\u001b[0m\u001b[1;33m)\u001b[0m\u001b[1;33m*\u001b[0m\u001b[1;36m2\u001b[0m\u001b[1;33m/\u001b[0m\u001b[0mN\u001b[0m\u001b[1;33m\u001b[0m\u001b[1;33m\u001b[0m\u001b[0m\n\u001b[0m\u001b[0;32m      2\u001b[0m \u001b[0mr\u001b[0m \u001b[1;33m=\u001b[0m \u001b[0mnp\u001b[0m\u001b[1;33m.\u001b[0m\u001b[0marange\u001b[0m\u001b[1;33m(\u001b[0m\u001b[1;36m1\u001b[0m\u001b[1;33m,\u001b[0m\u001b[0mN\u001b[0m\u001b[1;33m+\u001b[0m\u001b[1;36m1\u001b[0m\u001b[1;33m)\u001b[0m\u001b[1;33m*\u001b[0m\u001b[0ma\u001b[0m\u001b[1;33m\u001b[0m\u001b[1;33m\u001b[0m\u001b[0m\n",
      "\u001b[1;31mNameError\u001b[0m: name 'N' is not defined"
     ]
    }
   ],
   "source": [
    "a = (5e-10)*2/N\n",
    "r = np.arange(1,N+1)*a"
   ]
  },
  {
   "cell_type": "code",
   "execution_count": null,
   "metadata": {},
   "outputs": [],
   "source": []
  }
 ],
 "metadata": {
  "kernelspec": {
   "display_name": "Python 3",
   "language": "python",
   "name": "python3"
  },
  "language_info": {
   "codemirror_mode": {
    "name": "ipython",
    "version": 3
   },
   "file_extension": ".py",
   "mimetype": "text/x-python",
   "name": "python",
   "nbconvert_exporter": "python",
   "pygments_lexer": "ipython3",
   "version": "3.7.1"
  }
 },
 "nbformat": 4,
 "nbformat_minor": 2
}
