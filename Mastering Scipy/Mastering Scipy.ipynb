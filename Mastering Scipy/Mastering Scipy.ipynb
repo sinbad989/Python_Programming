{
 "cells": [
  {
   "cell_type": "markdown",
   "metadata": {},
   "source": [
    "# Mastering Scipy"
   ]
  },
  {
   "cell_type": "code",
   "execution_count": 23,
   "metadata": {},
   "outputs": [],
   "source": [
    "import numpy as np\n",
    "import matplotlib.pyplot as plt\n",
    "import scipy.linalg as spla\n",
    "import scipy.sparse as spsp\n",
    "import scipy.sparse.linalg as spspla"
   ]
  },
  {
   "cell_type": "code",
   "execution_count": 24,
   "metadata": {},
   "outputs": [],
   "source": [
    "np.set_printoptions(suppress=True,precision=3)"
   ]
  },
  {
   "cell_type": "code",
   "execution_count": 25,
   "metadata": {},
   "outputs": [],
   "source": [
    "cols = np.array([0,1,1,2,2,3,3,4,4,5,6,6,6,7,7])\n",
    "rows = np.array([1,0,3,1,4,1,7,6,7,3,2,3,7,5,6])\n",
    "data = np.array([1.,0.5,0.5,0.5,0.5,\n",
    "                0.5,0.5,0.5,0.5,1.,\n",
    "                1./3,1./3,1./3,0.5,0.5])"
   ]
  },
  {
   "cell_type": "code",
   "execution_count": 26,
   "metadata": {},
   "outputs": [],
   "source": [
    "T = np.zeros((8,8));\n",
    "T[rows,cols] = data"
   ]
  },
  {
   "cell_type": "code",
   "execution_count": 27,
   "metadata": {},
   "outputs": [
    {
     "data": {
      "text/plain": [
       "array([[0.   , 0.5  , 0.   , 0.   , 0.   , 0.   , 0.   , 0.   ],\n",
       "       [1.   , 0.   , 0.5  , 0.5  , 0.   , 0.   , 0.   , 0.   ],\n",
       "       [0.   , 0.   , 0.   , 0.   , 0.   , 0.   , 0.333, 0.   ],\n",
       "       [0.   , 0.5  , 0.   , 0.   , 0.   , 1.   , 0.333, 0.   ],\n",
       "       [0.   , 0.   , 0.5  , 0.   , 0.   , 0.   , 0.   , 0.   ],\n",
       "       [0.   , 0.   , 0.   , 0.   , 0.   , 0.   , 0.   , 0.5  ],\n",
       "       [0.   , 0.   , 0.   , 0.   , 0.5  , 0.   , 0.   , 0.5  ],\n",
       "       [0.   , 0.   , 0.   , 0.5  , 0.5  , 0.   , 0.333, 0.   ]])"
      ]
     },
     "execution_count": 27,
     "metadata": {},
     "output_type": "execute_result"
    }
   ],
   "source": [
    "T"
   ]
  },
  {
   "cell_type": "code",
   "execution_count": 28,
   "metadata": {},
   "outputs": [
    {
     "data": {
      "text/plain": [
       "array([[0.019, 0.444, 0.019, 0.019, 0.019, 0.019, 0.019, 0.019],\n",
       "       [0.869, 0.019, 0.444, 0.444, 0.019, 0.019, 0.019, 0.019],\n",
       "       [0.019, 0.019, 0.019, 0.019, 0.019, 0.019, 0.302, 0.019],\n",
       "       [0.019, 0.444, 0.019, 0.019, 0.019, 0.869, 0.302, 0.019],\n",
       "       [0.019, 0.019, 0.444, 0.019, 0.019, 0.019, 0.019, 0.019],\n",
       "       [0.019, 0.019, 0.019, 0.019, 0.019, 0.019, 0.019, 0.444],\n",
       "       [0.019, 0.019, 0.019, 0.019, 0.444, 0.019, 0.019, 0.444],\n",
       "       [0.019, 0.019, 0.019, 0.444, 0.444, 0.019, 0.302, 0.019]])"
      ]
     },
     "execution_count": 28,
     "metadata": {},
     "output_type": "execute_result"
    }
   ],
   "source": [
    "# from the transition matrix, we create a PageRank\n",
    "# G = (1-p)*T + p*B\n",
    "# B = m\n",
    "# p = 0.15\n",
    "G = (1-0.15)*T + 0.15/8\n",
    "G"
   ]
  },
  {
   "cell_type": "code",
   "execution_count": 29,
   "metadata": {},
   "outputs": [],
   "source": [
    "eigenvalues, eigenvectors = spla.eig(G)"
   ]
  },
  {
   "cell_type": "code",
   "execution_count": 30,
   "metadata": {},
   "outputs": [
    {
     "name": "stdout",
     "output_type": "stream",
     "text": [
      "[ 1.   +0.j    -0.655+0.j    -0.333+0.313j -0.333-0.313j -0.171+0.372j\n",
      " -0.171-0.372j  0.544+0.j     0.268+0.j   ]\n"
     ]
    }
   ],
   "source": [
    "print(eigenvalues)"
   ]
  },
  {
   "cell_type": "code",
   "execution_count": 31,
   "metadata": {},
   "outputs": [
    {
     "name": "stdout",
     "output_type": "stream",
     "text": [
      "[[-0.292+0.j    -0.499+0.j    -0.24 +0.225j -0.24 -0.225j  0.219+0.198j\n",
      "   0.219-0.198j  0.516+0.j     0.272+0.j   ]\n",
      " [-0.576+0.j     0.769+0.j     0.023-0.353j  0.023+0.353j -0.261+0.113j\n",
      "  -0.261-0.113j  0.66 +0.j     0.172+0.j   ]\n",
      " [-0.119+0.j     0.056+0.j     0.194-0.156j  0.194+0.156j -0.155-0.338j\n",
      "  -0.155+0.338j -0.174+0.j     0.237+0.j   ]\n",
      " [-0.544+0.j    -0.242+0.j     0.529+0.j     0.529-0.j    -0.277-0.332j\n",
      "  -0.277+0.332j -0.014+0.j    -0.674+0.j   ]\n",
      " [-0.097+0.j    -0.037+0.j    -0.231-0.018j -0.231+0.018j -0.252+0.292j\n",
      "  -0.252-0.292j -0.136+0.j     0.376+0.j   ]\n",
      " [-0.213+0.j    -0.154+0.j    -0.2  +0.239j -0.2  -0.239j  0.153-0.111j\n",
      "   0.153+0.111j -0.228+0.j    -0.373+0.j   ]\n",
      " [-0.254+0.j    -0.13 +0.j    -0.055+0.398j -0.055-0.398j  0.537+0.j\n",
      "   0.537-0.j    -0.334+0.j     0.224+0.j   ]\n",
      " [-0.391+0.j     0.238+0.j    -0.019-0.334j -0.019+0.334j  0.036+0.179j\n",
      "   0.036-0.179j -0.291+0.j    -0.235+0.j   ]]\n"
     ]
    }
   ],
   "source": [
    "print(eigenvectors)"
   ]
  },
  {
   "cell_type": "code",
   "execution_count": 32,
   "metadata": {},
   "outputs": [],
   "source": [
    "PageRank = eigenvectors[:,0]\n",
    "PageRank /= sum(PageRank) \n",
    "\n",
    "# what does /= mean? \n",
    "# x /= 3  -> x = x/3 \n"
   ]
  },
  {
   "cell_type": "code",
   "execution_count": 33,
   "metadata": {},
   "outputs": [
    {
     "data": {
      "text/plain": [
       "array([0.117, 0.232, 0.048, 0.219, 0.039, 0.086, 0.102, 0.157])"
      ]
     },
     "execution_count": 33,
     "metadata": {},
     "output_type": "execute_result"
    }
   ],
   "source": [
    "PageRank.real"
   ]
  },
  {
   "cell_type": "markdown",
   "metadata": {},
   "source": [
    "The transition matrix is sparse: most of its entries are zeros. Sparse matrices with an extremely large size of special importance in Numerical Linear algebra, not only because they encode challenging scientific problems but also because it is extremely hard to manipulate them with basic algorithms       "
   ]
  },
  {
   "cell_type": "markdown",
   "metadata": {},
   "source": [
    "## Creation of matrices and linear operators"
   ]
  },
  {
   "cell_type": "markdown",
   "metadata": {},
   "source": [
    "Some different ways to construct a basic matrix as an ndarray, including an enumeration of all the special matrices already included in Numpy and Scipy. "
   ]
  },
  {
   "cell_type": "code",
   "execution_count": 34,
   "metadata": {},
   "outputs": [
    {
     "data": {
      "text/plain": [
       "matrix([[ 1,  2],\n",
       "        [ 4, 16]])"
      ]
     },
     "execution_count": 34,
     "metadata": {},
     "output_type": "execute_result"
    }
   ],
   "source": [
    "# constructing matrices in the matrix class \n",
    "C = np.matrix('1,2;4,6')\n",
    "A = np.array([[1,2],[4,16]])\n",
    "np.asmatrix(A)"
   ]
  },
  {
   "cell_type": "code",
   "execution_count": 38,
   "metadata": {},
   "outputs": [
    {
     "name": "stdout",
     "output_type": "stream",
     "text": [
      "9.62 ms ± 296 µs per loop (mean ± std. dev. of 7 runs, 100 loops each)\n",
      "301 ms ± 11.6 ms per loop (mean ± std. dev. of 7 runs, 1 loop each)\n"
     ]
    }
   ],
   "source": [
    "E= spsp.rand(512,512, density=1).todense()\n",
    "s_100_csc = spsp.rand(512,512, density=1, format='csc')\n",
    "%timeit E.I\n",
    "\n",
    "%timeit spspla.inv(s_100_csc)"
   ]
  },
  {
   "cell_type": "markdown",
   "metadata": {},
   "source": [
    "We can always stack arrays in different ways: \n",
    "\n",
    "`numpy.contatenate((A1,A2, ...))` : join matrices together\n",
    "\n",
    "`numpy.hstack((A1,A2, ...))` : stack matrices horizontally\n",
    "\n",
    "`numpy.vstack((A1,A2, ...))` : stack matrices vertically\n",
    "\n",
    "`numpy.tile(A,reps)` : repeat a matrix a certain number of times, given by `reps`\n",
    "\n",
    "`scipy.linalg.block_diag(A1,A2,...)` : create a block diagonal array"
   ]
  },
  {
   "cell_type": "code",
   "execution_count": 56,
   "metadata": {},
   "outputs": [
    {
     "data": {
      "text/plain": [
       "array([[1, 2, 1, 2, 1, 2],\n",
       "       [3, 4, 3, 4, 3, 4]])"
      ]
     },
     "execution_count": 56,
     "metadata": {},
     "output_type": "execute_result"
    }
   ],
   "source": [
    "A = np.array([[1,2],[3,4]])\n",
    "b = np.tile(A,3)\n",
    "b"
   ]
  },
  {
   "cell_type": "code",
   "execution_count": 75,
   "metadata": {},
   "outputs": [
    {
     "ename": "TypeError",
     "evalue": "'int' object is not subscriptable",
     "output_type": "error",
     "traceback": [
      "\u001b[1;31m---------------------------------------------------------------------------\u001b[0m",
      "\u001b[1;31mTypeError\u001b[0m                                 Traceback (most recent call last)",
      "\u001b[1;32m<ipython-input-75-7832f51bcee3>\u001b[0m in \u001b[0;36m<module>\u001b[1;34m()\u001b[0m\n\u001b[1;32m----> 1\u001b[1;33m \u001b[0mspla\u001b[0m\u001b[1;33m.\u001b[0m\u001b[0mblock_diag\u001b[0m\u001b[1;33m(\u001b[0m\u001b[1;33m[\u001b[0m\u001b[1;33m[\u001b[0m\u001b[1;33m-\u001b[0m\u001b[1;36m3\u001b[0m\u001b[1;33m]\u001b[0m\u001b[1;33m*\u001b[0m\u001b[1;36m3\u001b[0m\u001b[1;33m[\u001b[0m\u001b[1;33m-\u001b[0m\u001b[1;36m4\u001b[0m\u001b[1;33m]\u001b[0m\u001b[1;33m*\u001b[0m\u001b[1;36m2\u001b[0m\u001b[1;33m,\u001b[0m\u001b[1;33m[\u001b[0m\u001b[1;33m-\u001b[0m\u001b[1;36m1\u001b[0m\u001b[1;33m]\u001b[0m\u001b[1;33m*\u001b[0m\u001b[1;36m4\u001b[0m\u001b[1;33m]\u001b[0m\u001b[1;33m,\u001b[0m\u001b[1;33m[\u001b[0m\u001b[1;33m-\u001b[0m\u001b[1;36m1\u001b[0m\u001b[1;33m,\u001b[0m\u001b[1;36m0\u001b[0m\u001b[1;33m,\u001b[0m\u001b[1;36m1\u001b[0m\u001b[1;33m]\u001b[0m\u001b[1;33m)\u001b[0m\u001b[1;33m\u001b[0m\u001b[0m\n\u001b[0m",
      "\u001b[1;31mTypeError\u001b[0m: 'int' object is not subscriptable"
     ]
    }
   ],
   "source": [
    "spla.block_diag([[-3]*3[-4]*2,[-1]*4],[-1,0,1])"
   ]
  },
  {
   "cell_type": "markdown",
   "metadata": {},
   "source": [
    "## Matrix factorizations related to solving matrix equations\n"
   ]
  },
  {
   "cell_type": "markdown",
   "metadata": {},
   "source": [
    "The concept of matrix decomposition is what makes Numerical Linear Algebra an efficient tool in Scientific Computing.\n",
    "\n",
    "If the matrix representing a problem is simple enough, any basic generic algorithms can find the solutions optimally. But, in real life, this situation seldom occurs.\n",
    "\n",
    "What we do in the general case is finding a suitable matrix factorization and tailoring an algorithm that is optimal on each factor, thus gaining on each step an obvious advantage. \n",
    "\n",
    "Here we explore different factorization included in the modules, \n",
    "`scipy.linalg` and `scipy.sparse.linalg` that will help us achieve a robust solution to matrix equation. \n",
    "\n",
    "**Relevant Factorizations:**\n",
    "1. Pivoted LU decomposition\n",
    "2. Cholesky decomposition \n",
    "3. QR decomposition\n",
    "4. Singular value decomposition\n",
    "\n",
    "\n",
    "> In any case, mastering matrix equations with SciPy basically means identifying the matrices involved and choosing the most adequate algorithm in the libraries to perform the requested operations.\n",
    "\n",
    "Besides being able to compute a solution with the least possible amount of roundoff error, we need to do so in the fastest possible way, and by using as few memory resources as possible. "
   ]
  },
  {
   "cell_type": "code",
   "execution_count": 48,
   "metadata": {},
   "outputs": [
    {
     "name": "stdout",
     "output_type": "stream",
     "text": [
      "[[ 0. -1. -1. -1. -1. -1.]\n",
      " [ 2.  2.  2.  2.  2.  2.]]\n"
     ]
    },
    {
     "data": {
      "text/plain": [
       "array([3., 5., 6., 6., 5., 3.])"
      ]
     },
     "execution_count": 48,
     "metadata": {},
     "output_type": "execute_result"
    }
   ],
   "source": [
    "\n",
    "B_banded = np.zeros((2,6))\n",
    "B_banded[0,1:] = -1\n",
    "B_banded[1,:] = 2\n",
    "print(B_banded)\n",
    "\n",
    "spla.solveh_banded(B_banded,np.ones(6))"
   ]
  },
  {
   "cell_type": "code",
   "execution_count": 49,
   "metadata": {},
   "outputs": [
    {
     "name": "stdout",
     "output_type": "stream",
     "text": [
      "[[ 2. -1.  0.  0.  0.  0.]\n",
      " [-1.  2. -1.  0.  0.  0.]\n",
      " [ 0. -1.  2. -1.  0.  0.]\n",
      " [ 0.  0. -1.  2. -1.  0.]\n",
      " [ 0.  0.  0. -1.  2. -1.]\n",
      " [ 0.  0.  0.  0. -1.  2.]]\n",
      "[[ 1.414 -0.707  0.     0.     0.     0.   ]\n",
      " [ 0.     1.225 -0.816  0.     0.     0.   ]\n",
      " [ 0.     0.     1.155 -0.866  0.     0.   ]\n",
      " [ 0.     0.     0.     1.118 -0.894  0.   ]\n",
      " [ 0.     0.     0.     0.     1.095 -0.913]\n",
      " [ 0.     0.     0.     0.     0.     1.08 ]]\n",
      "[[ 1.414 -0.707  0.     0.     0.     0.   ]\n",
      " [-1.     1.225 -0.816  0.     0.     0.   ]\n",
      " [ 0.    -1.     1.155 -0.866  0.     0.   ]\n",
      " [ 0.     0.    -1.     1.118 -0.894  0.   ]\n",
      " [ 0.     0.     0.    -1.     1.095 -0.913]\n",
      " [ 0.     0.     0.     0.    -1.     1.08 ]]\n",
      "[[ 0.    -0.707 -0.816 -0.866 -0.894 -0.913]\n",
      " [ 1.414  1.225  1.155  1.118  1.095  1.08 ]]\n"
     ]
    }
   ],
   "source": [
    "# test the Cholesky decomposition of matrix B \n",
    "B = spsp.diags([[-1]*5, [2]*6,[-1]*5],[-1,0,1]).todense()\n",
    "print(B)\n",
    "\n",
    "np.set_printoptions(suppress=True,precision=3)\n",
    "print(spla.cholesky(B))\n",
    "print(spla.cho_factor(B)[0])\n",
    "print(spla.cholesky_banded(B_banded))"
   ]
  },
  {
   "cell_type": "markdown",
   "metadata": {},
   "source": [
    "# Scipy and Numpy: Optimizing and Boosting "
   ]
  },
  {
   "cell_type": "markdown",
   "metadata": {},
   "source": [
    "Numpy can operate with reasonable speeds on arrays containing $10^6$ elements.Once we go up to $10^7$ elements, operations can start to slow down and Python's memory will become limited, depending on the amount of RAM available.\n",
    "\n",
    "> What is the best solution if you need to work with an array that is far larger - say, 10^10 elements? \n",
    "\n",
    "If these massive arrays primarily contain zeros, then you're in luck, as this is the property of sparse matrices. If a sparse matrix is treated correctly, operation time and memory usage can go down drastically. "
   ]
  },
  {
   "cell_type": "code",
   "execution_count": 12,
   "metadata": {},
   "outputs": [
    {
     "name": "stdout",
     "output_type": "stream",
     "text": [
      "Numpy array data size 72.0 megabytes\n",
      "The sparse matrix data size: 0.72 megabytes\n",
      "Non-sparse operation takes 4.697 seconds\n",
      "Sparse operation takes 0.083 seconds\n"
     ]
    }
   ],
   "source": [
    "import numpy as np\n",
    "from scipy.sparse.linalg import eigsh\n",
    "from scipy.linalg import eigh\n",
    "import scipy.sparse\n",
    "import time\n",
    "\n",
    "N = 3000\n",
    "# Creating a random matrix \n",
    "m = scipy.sparse.rand(N,N)\n",
    "\n",
    "# Creating an array clone to it \n",
    "a = m.toarray()\n",
    "\n",
    "'''\n",
    "You can determine the byte size of a numpy.array by calling its method nbytes \n",
    "To do the same with sparse matrices, you can use data.nbytes\n",
    "'''\n",
    "\n",
    "print('Numpy array data size ' + str(a.nbytes/1000000) + ' megabytes')\n",
    "print('The sparse matrix data size: ' + str(m.data.nbytes/1000000.00) + ' megabytes')\n",
    "\n",
    "# Non-sparse\n",
    "t0 = time.time()\n",
    "res1 = eigh(a)\n",
    "dt = str(np.round(time.time()- t0, 3)) + ' seconds'\n",
    "print('Non-sparse operation takes ' + dt)\n",
    "\n",
    "# Sparse \n",
    "t0 = time.time()\n",
    "res2 = eigsh(m)\n",
    "dt = str(np.round(time.time()-t0,3)) + ' seconds'\n",
    "print('Sparse operation takes ' + dt)"
   ]
  },
  {
   "cell_type": "code",
   "execution_count": 83,
   "metadata": {},
   "outputs": [],
   "source": [
    "psi = np.zeros((2,2))\n",
    "H = np.zeros((2,2,2,2))\n",
    "h_11 = H[0,0,:,:]\n",
    "V = H[0,1]\n",
    "\n",
    "def mdot(operator,psi):\n",
    "    return operator.transpose(0,2,1,3).reshape(4,4).dot(psi.reshape(4)).reshape(2,2)"
   ]
  },
  {
   "cell_type": "code",
   "execution_count": 84,
   "metadata": {},
   "outputs": [
    {
     "data": {
      "text/plain": [
       "array([[0., 0.],\n",
       "       [0., 0.]])"
      ]
     },
     "execution_count": 84,
     "metadata": {},
     "output_type": "execute_result"
    }
   ],
   "source": [
    "mdot(H,psi)"
   ]
  },
  {
   "cell_type": "code",
   "execution_count": 85,
   "metadata": {},
   "outputs": [
    {
     "data": {
      "text/plain": [
       "array([[0., 0.],\n",
       "       [0., 0.]])"
      ]
     },
     "execution_count": 85,
     "metadata": {},
     "output_type": "execute_result"
    }
   ],
   "source": [
    "V"
   ]
  },
  {
   "cell_type": "code",
   "execution_count": 86,
   "metadata": {},
   "outputs": [
    {
     "data": {
      "text/plain": [
       "array([[[[0., 0.],\n",
       "         [0., 0.]],\n",
       "\n",
       "        [[0., 0.],\n",
       "         [0., 0.]]],\n",
       "\n",
       "\n",
       "       [[[0., 0.],\n",
       "         [0., 0.]],\n",
       "\n",
       "        [[0., 0.],\n",
       "         [0., 0.]]]])"
      ]
     },
     "execution_count": 86,
     "metadata": {},
     "output_type": "execute_result"
    }
   ],
   "source": [
    "H"
   ]
  },
  {
   "cell_type": "code",
   "execution_count": 87,
   "metadata": {},
   "outputs": [
    {
     "data": {
      "text/plain": [
       "array([[0., 0.],\n",
       "       [0., 0.]])"
      ]
     },
     "execution_count": 87,
     "metadata": {},
     "output_type": "execute_result"
    }
   ],
   "source": [
    "psi"
   ]
  },
  {
   "cell_type": "code",
   "execution_count": 103,
   "metadata": {},
   "outputs": [
    {
     "data": {
      "text/plain": [
       "array([1., 1., 1., 1., 1.])"
      ]
     },
     "execution_count": 103,
     "metadata": {},
     "output_type": "execute_result"
    }
   ],
   "source": [
    "b = np.ones(5)\n",
    "b"
   ]
  },
  {
   "cell_type": "code",
   "execution_count": 105,
   "metadata": {},
   "outputs": [
    {
     "data": {
      "text/plain": [
       "array([1., 1., 1., 1., 1.])"
      ]
     },
     "execution_count": 105,
     "metadata": {},
     "output_type": "execute_result"
    }
   ],
   "source": [
    "c = np.ones_like(b)\n",
    "c"
   ]
  },
  {
   "cell_type": "code",
   "execution_count": 106,
   "metadata": {},
   "outputs": [
    {
     "data": {
      "text/plain": [
       "array([[1.   , 0.5  , 0.333, 0.25 , 0.2  ],\n",
       "       [0.5  , 0.333, 0.25 , 0.2  , 0.167],\n",
       "       [0.333, 0.25 , 0.2  , 0.167, 0.143],\n",
       "       [0.25 , 0.2  , 0.167, 0.143, 0.125],\n",
       "       [0.2  , 0.167, 0.143, 0.125, 0.111]])"
      ]
     },
     "execution_count": 106,
     "metadata": {},
     "output_type": "execute_result"
    }
   ],
   "source": [
    "spla.hilbert(5)"
   ]
  },
  {
   "cell_type": "code",
   "execution_count": null,
   "metadata": {},
   "outputs": [],
   "source": []
  }
 ],
 "metadata": {
  "kernelspec": {
   "display_name": "Python 3",
   "language": "python",
   "name": "python3"
  },
  "language_info": {
   "codemirror_mode": {
    "name": "ipython",
    "version": 3
   },
   "file_extension": ".py",
   "mimetype": "text/x-python",
   "name": "python",
   "nbconvert_exporter": "python",
   "pygments_lexer": "ipython3",
   "version": "3.7.1"
  }
 },
 "nbformat": 4,
 "nbformat_minor": 2
}
