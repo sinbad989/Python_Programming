{
 "cells": [
  {
   "cell_type": "markdown",
   "metadata": {},
   "source": [
    "# Chapter 5 - Scale-free networks"
   ]
  },
  {
   "cell_type": "markdown",
   "metadata": {},
   "source": [
    "# 5.1 Zipf's Law\n",
    "\n",
    "Zipf’s law describes a relationship between the frequencies and ranks of words in natural\n",
    "languages; see http://en.wikipedia.org/wiki/Zipf's_law. The “frequency” of a word\n",
    "is the number of times it appears in a body of work. The “rank” of a word is its position in\n",
    "a list of words sorted by frequency: the most common word has rank 1, the second most\n",
    "common has rank 2, etc.\n",
    "\n",
    "Specifically, Zipf’s Law predicts that the frequency, f , of the word with rank r is:\n",
    "\n",
    "\\begin{equation}\n",
    "f = cr^{-s}\n",
    "\\end{equation}\n",
    "\n",
    "where $s$ and $c$ are parameters that depend on the language and the text. \n",
    "\n",
    "If you take the logarithm of both sides of this equation, you get: \n",
    "\n",
    "\\begin{equation}\n",
    "log f = logc - slog r\n",
    "\\end{equation}\n",
    "\n",
    "Plotting $log f$ versus $log r$, you should get a straight line with slope $-s$ and intercept $c$."
   ]
  },
  {
   "cell_type": "code",
   "execution_count": 98,
   "metadata": {},
   "outputs": [],
   "source": [
    "# Exercise 5.1 \n",
    "'''\n",
    "Write a program that reads a text from a file, counts word frequencies, and prints one line for each word, in descending \n",
    "order of frequency. You can test it by downloading an out-of-copyright book in plain text format from gutenberg.net. You\n",
    "might want to remove punctuation from the words. \n",
    "'''\n",
    "\n",
    "# word list extraction from the book text file\n",
    "f = open('data/alicesadventure2.txt','r')\n",
    "wordlist = []\n",
    "for x in f:\n",
    "    line = x.split(' ')\n",
    "    for word in line: \n",
    "        # removal of punctuation from the words (brute)\n",
    "        word = word.lower()\n",
    "        word = word.replace('\\n','')\n",
    "        word = word.replace(',','')\n",
    "        word = word.replace('?','')\n",
    "        word = word.replace('!','')\n",
    "        word = word.replace('‘','')\n",
    "        word = word.replace('’','')\n",
    "        word = word.replace('(','')\n",
    "        word = word.replace(')','')\n",
    "        word = word.replace('.','')\n",
    "        word = word.replace('--','')\n",
    "        if len(word) > 0:\n",
    "            wordlist.append(word)\n",
    "            \n",
    "# word counting \n",
    "wordict = {}\n",
    "for w in wordlist: \n",
    "    if w not in wordict.keys():\n",
    "        wordict.update({w:1})\n",
    "    else:\n",
    "        value = wordict[w] + 1\n",
    "        wordict[w] = value"
   ]
  },
  {
   "cell_type": "code",
   "execution_count": 99,
   "metadata": {},
   "outputs": [],
   "source": []
  },
  {
   "cell_type": "code",
   "execution_count": null,
   "metadata": {},
   "outputs": [],
   "source": []
  }
 ],
 "metadata": {
  "kernelspec": {
   "display_name": "Python 3",
   "language": "python",
   "name": "python3"
  },
  "language_info": {
   "codemirror_mode": {
    "name": "ipython",
    "version": 3
   },
   "file_extension": ".py",
   "mimetype": "text/x-python",
   "name": "python",
   "nbconvert_exporter": "python",
   "pygments_lexer": "ipython3",
   "version": "3.7.1"
  }
 },
 "nbformat": 4,
 "nbformat_minor": 2
}
