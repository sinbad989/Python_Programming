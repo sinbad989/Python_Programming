{
 "cells": [
  {
   "cell_type": "markdown",
   "metadata": {},
   "source": [
    "# 2. Graphs"
   ]
  },
  {
   "cell_type": "markdown",
   "metadata": {},
   "source": [
    "![small network](img/small_network.png)"
   ]
  },
  {
   "cell_type": "markdown",
   "metadata": {},
   "source": [
    "Here is an implementation of a graph as a dictionary of dictionaries"
   ]
  },
  {
   "cell_type": "code",
   "execution_count": 43,
   "metadata": {},
   "outputs": [],
   "source": [
    "class Graph(dict):\n",
    "    def __init__(self,vs=[],es=[]):\n",
    "        \"\"\"Create a new graph. vs is a list of vertices;\n",
    "        (es is a list of edges. \"\"\"\n",
    "\n",
    "        for v in vs:\n",
    "            self.add_vertex(v)\n",
    "\n",
    "        for e in es:\n",
    "            self.add_edge(e)\n",
    "        \n",
    "\n",
    "    def add_vertex(self,v):\n",
    "        \"\"\"add (v) to the graph\"\"\"\n",
    "        self[v] = {}\n",
    "\n",
    "    def add_edge(self,e):\n",
    "        \"\"\"add (e) to the graph by adding an entry in both directions.\n",
    "        If there is already an edge connecting these Vertices, the new\n",
    "        edge replaces it.\n",
    "        \"\"\"\n",
    "\n",
    "        v, w = e\n",
    "        self[v][w] = e\n",
    "        self[w][v] = e\n",
    "        \n",
    "    def remove_edge(self,e):\n",
    "        return True\n",
    "    \n",
    "    def vertices(self,vs):\n",
    "        vert = []\n",
    "        for v in vs:\n",
    "            vert.append(v)\n",
    "        return vert"
   ]
  },
  {
   "cell_type": "markdown",
   "metadata": {},
   "source": [
    "The first line declares that `Graph` inherits from the built-in type `dict`, so a `Graph` objet has all the methods and operators of a dictionary. \n"
   ]
  },
  {
   "cell_type": "code",
   "execution_count": 44,
   "metadata": {},
   "outputs": [],
   "source": [
    "class Vertex(object):\n",
    "    def __init__(self, label=''):\n",
    "        self.label = label \n",
    "    \n",
    "    def __repr__(self):\n",
    "        return 'Vertex(%s)' % repr(self.label)\n",
    "    \n",
    "    __str__ = __repr__\n"
   ]
  },
  {
   "cell_type": "markdown",
   "metadata": {},
   "source": [
    "A `Vertex` is just an object that has a label attribute. We can add attributes later, as needed.\n",
    "\n",
    "Remarks: \n",
    "- `__repr__` is a special function that returns a string representation of an object\n",
    "- in this case, `Vertex.__repr__` and `Vertex.__str__` refer to the same function, so we get the same string either way."
   ]
  },
  {
   "cell_type": "code",
   "execution_count": 45,
   "metadata": {},
   "outputs": [],
   "source": [
    "class Edge(tuple):\n",
    "    def __new__(cls, e1, e2):\n",
    "        return tuple.__new__(cls,(e1,e2))\n",
    "    \n",
    "    def __repr__(self):\n",
    "        return 'Edge(%s,%s)' % (repr(self[0]), repr(self[1]))\n",
    "    \n",
    "    __str__ = __repr__"
   ]
  },
  {
   "cell_type": "markdown",
   "metadata": {},
   "source": [
    "`Edge` inherits from the built-in type `tuple` and overrides the `__new__` method. \n",
    "\n",
    "> When you invoke an object constructor, Python invokes `__new__` to create the object and then `__init__` to initialize the attributes. \n"
   ]
  },
  {
   "cell_type": "code",
   "execution_count": 46,
   "metadata": {},
   "outputs": [
    {
     "name": "stdout",
     "output_type": "stream",
     "text": [
      "{Vertex('v'): {Vertex('w'): Edge(Vertex('v'),Vertex('w'))}, Vertex('w'): {Vertex('v'): Edge(Vertex('v'),Vertex('w'))}}\n"
     ]
    }
   ],
   "source": [
    "# Here is an example that creates two vertices and an edge: \n",
    "v = Vertex('v')\n",
    "w = Vertex('w')\n",
    "e = Edge(v,w)\n",
    "#print(e)\n",
    "\n",
    "# now, we can assemble the edge and vertices into a graph\n",
    "g = Graph([v,w],[e])\n",
    "print(g)"
   ]
  },
  {
   "cell_type": "code",
   "execution_count": 49,
   "metadata": {},
   "outputs": [
    {
     "data": {
      "text/plain": [
       "[Vertex('v'), Vertex('w')]"
      ]
     },
     "execution_count": 49,
     "metadata": {},
     "output_type": "execute_result"
    }
   ],
   "source": [
    "g.vertices([v,w])"
   ]
  },
  {
   "cell_type": "markdown",
   "metadata": {},
   "source": [
    "# 2.3 Random Graphs\n",
    "\n",
    "- a graph with edges generated at random. There are many kinds of random graphs, one interesting kind is the **Erdos-Renyi** model denoted $G(n,p)$, which generates $n$ nodes, where the probability is $p$ that there is an edge between any two nodes.\n"
   ]
  },
  {
   "cell_type": "code",
   "execution_count": null,
   "metadata": {},
   "outputs": [],
   "source": [
    "# Exercise 2.4: \n",
    "'''\n",
    "Create a file named RandomGraph.py and define a class named RandomGraph that inherits from Graph and provides a method named\n",
    "`add_random_edges` that takes a probability `p` as a parameter and, starting with an edgeless graph, adds edges at random so that\n",
    "the probability is `p` that there is an edge between any two nodes.\n",
    "'''\n",
    "\n"
   ]
  },
  {
   "cell_type": "markdown",
   "metadata": {},
   "source": [
    "# 2.4 Connected Graphs\n",
    "a graph is **connected** if there is a path from every node to every other node\n",
    "\n",
    "![connected_graph](img\\connected_graph.png)"
   ]
  },
  {
   "cell_type": "markdown",
   "metadata": {},
   "source": [
    "# 2.5 Paul Erdos: peripatetic mathematician, speed freak\n",
    "> In the 1960s he and Afréd Rényi wrote a series of papers introducing the Erd˝osRényi model of random graphs and studying their properties. [[PDF link]](https://www.renyi.hu/~p_erdos/1960-10.pdf)\n",
    "\n",
    "**One of their most surprising results is the existence of abrupt changes in the characteristics\n",
    "of random graphs as random edges are added.**\n",
    "\n",
    "> They showed that for a number of graph\n",
    "properties there is a threshold value of the probability p below which the property is rare\n",
    "and above which it is almost certain. This transition is sometimes called a **“phase change”**\n",
    "by analogy with physical systems that change state at some critical value of temperature."
   ]
  },
  {
   "cell_type": "markdown",
   "metadata": {},
   "source": [
    "# 2.6 Iterators\n",
    "\n",
    "If you have read the documentation of Python dictionaries, you might have noticed the\n",
    "methods `iterkeys`, `itervalues` and `iteritems`. These methods are similar to `keys`, `values`\n",
    "and `items`, except that instead of building a new list, they return iterators.\n",
    "\n",
    "**Iterators** is an object that provides a method named `next` that returns the next element in a sequence. "
   ]
  },
  {
   "cell_type": "code",
   "execution_count": 61,
   "metadata": {},
   "outputs": [
    {
     "ename": "AttributeError",
     "evalue": "'dict' object has no attribute 'iterkeys'",
     "output_type": "error",
     "traceback": [
      "\u001b[1;31m---------------------------------------------------------------------------\u001b[0m",
      "\u001b[1;31mAttributeError\u001b[0m                            Traceback (most recent call last)",
      "\u001b[1;32m<ipython-input-61-712ab856dc7e>\u001b[0m in \u001b[0;36m<module>\u001b[1;34m\u001b[0m\n\u001b[0;32m      1\u001b[0m \u001b[0md\u001b[0m \u001b[1;33m=\u001b[0m \u001b[0mdict\u001b[0m\u001b[1;33m(\u001b[0m\u001b[0ma\u001b[0m\u001b[1;33m=\u001b[0m\u001b[1;36m1\u001b[0m\u001b[1;33m,\u001b[0m\u001b[0mb\u001b[0m\u001b[1;33m=\u001b[0m\u001b[1;36m2\u001b[0m\u001b[1;33m)\u001b[0m\u001b[1;33m\u001b[0m\u001b[1;33m\u001b[0m\u001b[0m\n\u001b[1;32m----> 2\u001b[1;33m \u001b[0miter\u001b[0m \u001b[1;33m=\u001b[0m \u001b[0md\u001b[0m\u001b[1;33m.\u001b[0m\u001b[0miterkeys\u001b[0m\u001b[1;33m(\u001b[0m\u001b[1;33m)\u001b[0m\u001b[1;33m\u001b[0m\u001b[1;33m\u001b[0m\u001b[0m\n\u001b[0m\u001b[0;32m      3\u001b[0m \u001b[0mprint\u001b[0m\u001b[1;33m(\u001b[0m\u001b[0miter\u001b[0m\u001b[1;33m.\u001b[0m\u001b[0mnext\u001b[0m\u001b[1;33m(\u001b[0m\u001b[1;33m)\u001b[0m\u001b[1;33m)\u001b[0m\u001b[1;33m\u001b[0m\u001b[1;33m\u001b[0m\u001b[0m\n",
      "\u001b[1;31mAttributeError\u001b[0m: 'dict' object has no attribute 'iterkeys'"
     ]
    }
   ],
   "source": [
    "# doesn't work on python 3\n",
    "\n",
    "d = dict(a=1,b=2)\n",
    "iter = d.iterkeys()\n",
    "print(iter.next())"
   ]
  },
  {
   "cell_type": "markdown",
   "metadata": {},
   "source": [
    "# 2.7 Generators \n",
    "The easiest way to make an iterator is to write a **generator**, which is a\n",
    "function that contains a yield statement. yield is similar to return, except that the state\n",
    "of the running function is stored and can be resumed.\n"
   ]
  },
  {
   "cell_type": "code",
   "execution_count": 62,
   "metadata": {},
   "outputs": [],
   "source": [
    "def generate_letters():\n",
    "    for letter in 'abc':\n",
    "        yield letter"
   ]
  },
  {
   "cell_type": "code",
   "execution_count": 66,
   "metadata": {},
   "outputs": [],
   "source": [
    "iter1 = generate_letters()"
   ]
  },
  {
   "cell_type": "code",
   "execution_count": 67,
   "metadata": {},
   "outputs": [
    {
     "name": "stdout",
     "output_type": "stream",
     "text": [
      "<generator object generate_letters at 0x00000000050E60C0>\n"
     ]
    }
   ],
   "source": [
    "print(iter1)"
   ]
  },
  {
   "cell_type": "code",
   "execution_count": 68,
   "metadata": {},
   "outputs": [
    {
     "ename": "AttributeError",
     "evalue": "'generator' object has no attribute 'next'",
     "output_type": "error",
     "traceback": [
      "\u001b[1;31m---------------------------------------------------------------------------\u001b[0m",
      "\u001b[1;31mAttributeError\u001b[0m                            Traceback (most recent call last)",
      "\u001b[1;32m<ipython-input-68-f811a298a5ec>\u001b[0m in \u001b[0;36m<module>\u001b[1;34m\u001b[0m\n\u001b[1;32m----> 1\u001b[1;33m \u001b[0mprint\u001b[0m\u001b[1;33m(\u001b[0m\u001b[0miter1\u001b[0m\u001b[1;33m.\u001b[0m\u001b[0mnext\u001b[0m\u001b[1;33m(\u001b[0m\u001b[1;33m)\u001b[0m\u001b[1;33m)\u001b[0m\u001b[1;33m\u001b[0m\u001b[1;33m\u001b[0m\u001b[0m\n\u001b[0m",
      "\u001b[1;31mAttributeError\u001b[0m: 'generator' object has no attribute 'next'"
     ]
    }
   ],
   "source": [
    "print(iter1.next())"
   ]
  },
  {
   "cell_type": "code",
   "execution_count": 69,
   "metadata": {},
   "outputs": [
    {
     "name": "stdout",
     "output_type": "stream",
     "text": [
      "a\n",
      "b\n",
      "c\n"
     ]
    }
   ],
   "source": [
    "for letter in generate_letters():\n",
    "    print(letter)"
   ]
  },
  {
   "cell_type": "code",
   "execution_count": null,
   "metadata": {},
   "outputs": [],
   "source": []
  }
 ],
 "metadata": {
  "kernelspec": {
   "display_name": "Python 3",
   "language": "python",
   "name": "python3"
  },
  "language_info": {
   "codemirror_mode": {
    "name": "ipython",
    "version": 3
   },
   "file_extension": ".py",
   "mimetype": "text/x-python",
   "name": "python",
   "nbconvert_exporter": "python",
   "pygments_lexer": "ipython3",
   "version": "3.7.1"
  }
 },
 "nbformat": 4,
 "nbformat_minor": 2
}
