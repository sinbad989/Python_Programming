{
 "cells": [
  {
   "cell_type": "markdown",
   "metadata": {},
   "source": [
    "# Chapter 5 - Scale-free networks"
   ]
  },
  {
   "cell_type": "markdown",
   "metadata": {},
   "source": [
    "# 5.1 Zipf's Law\n",
    "\n",
    "Zipf’s law describes a relationship between the frequencies and ranks of words in natural\n",
    "languages; see http://en.wikipedia.org/wiki/Zipf's_law. The “frequency” of a word\n",
    "is the number of times it appears in a body of work. The “rank” of a word is its position in\n",
    "a list of words sorted by frequency: the most common word has rank 1, the second most\n",
    "common has rank 2, etc.\n",
    "\n",
    "Specifically, Zipf’s Law predicts that the frequency, f , of the word with rank r is:\n",
    "\n",
    "\\begin{equation}\n",
    "f = cr^{-s}\n",
    "\\end{equation}\n",
    "\n",
    "where $s$ and $c$ are parameters that depend on the language and the text. \n",
    "\n",
    "If you take the logarithm of both sides of this equation, you get: \n",
    "\n",
    "\\begin{equation}\n",
    "log f = logc - slog r\n",
    "\\end{equation}\n",
    "\n",
    "Plotting $log f$ versus $log r$, you should get a straight line with slope $-s$ and intercept $c$."
   ]
  },
  {
   "cell_type": "code",
   "execution_count": 113,
   "metadata": {},
   "outputs": [],
   "source": [
    "# Exercise 5.1 \n",
    "'''\n",
    "Write a program that reads a text from a file, counts word frequencies, and prints one line for each word, in descending \n",
    "order of frequency. You can test it by downloading an out-of-copyright book in plain text format from gutenberg.net. You\n",
    "might want to remove punctuation from the words. \n",
    "'''\n",
    "import matplotlib.pyplot as pyplot\n",
    "\n",
    "# word list extraction from the book text file\n",
    "f = open('data/alicesadventure2.txt','r')\n",
    "wordlist = []\n",
    "for x in f:\n",
    "    line = x.split(' ')\n",
    "    for word in line: \n",
    "        # removal of punctuation from the words (brute)\n",
    "        word = word.lower()\n",
    "        word = word.replace('\\n','')\n",
    "        word = word.replace(',','')\n",
    "        word = word.replace('?','')\n",
    "        word = word.replace('!','')\n",
    "        word = word.replace('‘','')\n",
    "        word = word.replace('’','')\n",
    "        word = word.replace('(','')\n",
    "        word = word.replace(')','')\n",
    "        word = word.replace('.','')\n",
    "        word = word.replace('--','')\n",
    "        if len(word) > 0:\n",
    "            wordlist.append(word)\n",
    "            \n",
    "# word counting \n",
    "wordict = {}\n",
    "for w in wordlist: \n",
    "    if w not in wordict.keys():\n",
    "        wordict.update({w:1})\n",
    "    else:\n",
    "        value = wordict[w] + 1\n",
    "        wordict[w] = value\n",
    "        \n",
    "# ranking a dictionary\n",
    "ranklist = sorted(wordict, key=wordict.get, reverse=True)\n",
    "freq = []\n",
    "for word in ranklist:\n",
    "    freq.append(wordict[word])"
   ]
  },
  {
   "cell_type": "code",
   "execution_count": 124,
   "metadata": {},
   "outputs": [
    {
     "data": {
      "image/png": "[encoded data removed]",
      "text/plain": [
       "<Figure size 432x288 with 1 Axes>"
      ]
     },
     "metadata": {
      "needs_background": "light"
     },
     "output_type": "display_data"
    }
   ],
   "source": [
    "import math\n",
    "\n",
    "rf = [(r+1,f) for r,f in enumerate(freq)]\n",
    "\n",
    "rs, fs = zip(*rf)\n",
    "pyplot.clf()\n",
    "\n",
    "pyplot.title('Zipf plot')\n",
    "pyplot.xlabel('rank')\n",
    "pyplot.ylabel('frequency')\n",
    "pyplot.plot(rs, fs, 'r-')\n",
    "\n",
    "scale = 'log'\n",
    "pyplot.xscale(scale)\n",
    "pyplot.yscale(scale)\n",
    "pyplot.show()"
   ]
  },
  {
   "cell_type": "code",
   "execution_count": 119,
   "metadata": {},
   "outputs": [
    {
     "data": {
      "image/png": "[encoded data removed]",
      "text/plain": [
       "<Figure size 432x288 with 1 Axes>"
      ]
     },
     "metadata": {
      "needs_background": "light"
     },
     "output_type": "display_data"
    }
   ],
   "source": [
    "rf = [(r+1,f) for r,f in enumerate(freq)]\n",
    "\n",
    "rs, fs = zip(*rf)\n",
    "pyplot.clf()\n",
    "\n",
    "pyplot.title('Zipf plot')\n",
    "pyplot.xlabel('rank')\n",
    "pyplot.ylabel('frequency')\n",
    "pyplot.plot(rs, fs, 'r-')\n",
    "pyplot.show()"
   ]
  },
  {
   "cell_type": "markdown",
   "metadata": {},
   "source": [
    "# 5.2 Cumulative Distribution\n",
    "\n",
    "A **distribution** is a statistical description of a set of values.\n",
    "\n",
    "**Cumulative distribution function** (CDF), maps a value $x$, to the fraction of values less than or equal to x. If you choose a value at random, $CDF(x)$ is the probability that the value you get is less than or equal to x. "
   ]
  },
  {
   "cell_type": "code",
   "execution_count": 139,
   "metadata": {},
   "outputs": [],
   "source": [
    "x = [1,2,2,4,5]\n",
    "\n",
    "def cdf(y,x):\n",
    "    ctr = 0\n",
    "    for i in y:\n",
    "        if i <= x:\n",
    "            ctr = ctr + 1\n",
    "    return ctr/len(y)"
   ]
  },
  {
   "cell_type": "code",
   "execution_count": 140,
   "metadata": {},
   "outputs": [],
   "source": [
    "cdfdist = []\n",
    "for j in x:\n",
    "    cdfdist.append((j,cdf(x,j)))"
   ]
  },
  {
   "cell_type": "code",
   "execution_count": 141,
   "metadata": {},
   "outputs": [
    {
     "data": {
      "text/plain": [
       "[(1, 0.2), (2, 0.6), (2, 0.6), (4, 0.8), (5, 1.0)]"
      ]
     },
     "execution_count": 141,
     "metadata": {},
     "output_type": "execute_result"
    }
   ],
   "source": [
    "cdfdist"
   ]
  },
  {
   "cell_type": "code",
   "execution_count": 142,
   "metadata": {},
   "outputs": [
    {
     "data": {
      "text/plain": [
       "[<matplotlib.lines.Line2D at 0x8709cf8>]"
      ]
     },
     "execution_count": 142,
     "metadata": {},
     "output_type": "execute_result"
    },
    {
     "data": {
      "image/png": "[encoded data removed]",
      "text/plain": [
       "<Figure size 432x288 with 1 Axes>"
      ]
     },
     "metadata": {
      "needs_background": "light"
     },
     "output_type": "display_data"
    }
   ],
   "source": [
    "x, y = zip(*cdfdist)\n",
    "\n",
    "pyplot.plot(x,y)"
   ]
  },
  {
   "cell_type": "markdown",
   "metadata": {},
   "source": [
    "# 5.3 Continuous Distributions"
   ]
  },
  {
   "cell_type": "markdown",
   "metadata": {},
   "source": [
    "# 5.4 Pareto Distributions"
   ]
  },
  {
   "cell_type": "markdown",
   "metadata": {},
   "source": [
    "# 5.5 Barabasi and Albert"
   ]
  },
  {
   "cell_type": "markdown",
   "metadata": {},
   "source": [
    "They also propose a model that generates random graphs with the same property. The\n",
    "essential features of the model, which distinguish it from the Erd˝os-Rényi model and the\n",
    "Watts-Strogatz model, are:\n",
    "Growth: Instead of starting with a fixed number of vertices, Barabási and Albert start with\n",
    "a small graph and add vertices gradually.\n",
    "\n",
    "Preferential attachment: When a new edge is created, it is more likely to connect to a\n",
    "vertex that already has a large number of edges. This “rich get richer” effect is characteristic of the growth patterns of some real-world networks.\n",
    "\n",
    "Finally, they show that graphs generated by this model have a distribution of degrees\n",
    "that obeys a power law. Graphs that have this property are sometimes called [scale-free\n",
    "networks](http://en.wikipedia.org/wiki/Scale-free_network.). That name can be\n",
    "confusing because it is the distribution of degrees that is scale-free, not the network."
   ]
  },
  {
   "cell_type": "markdown",
   "metadata": {},
   "source": [
    "# 5.6 Zipf, Pareto and Power laws"
   ]
  },
  {
   "cell_type": "markdown",
   "metadata": {},
   "source": [
    "# 5.7 Explanatory Models\n",
    "\n",
    "![](img\\explanatory.png)\n",
    "\n",
    "The logical structure of an explanatory model is:\n",
    "1. In a system, S, we see something observable, O, that warrants explanation.\n",
    "2. We construct a model, M, that is analogous to the system; that is, there is a correspondence between the elements of the model and the elements of the system.\n",
    "3. By simulation or mathematical derivation, we show that the model exhibits a behavior, B, that is analogous to O.\n",
    "4. We conclude that S exhibits O because S is similar to M, M exhibits B, and B is similar\n",
    "to O.\n"
   ]
  },
  {
   "cell_type": "code",
   "execution_count": null,
   "metadata": {},
   "outputs": [],
   "source": []
  }
 ],
 "metadata": {
  "kernelspec": {
   "display_name": "Python 3",
   "language": "python",
   "name": "python3"
  },
  "language_info": {
   "codemirror_mode": {
    "name": "ipython",
    "version": 3
   },
   "file_extension": ".py",
   "mimetype": "text/x-python",
   "name": "python",
   "nbconvert_exporter": "python",
   "pygments_lexer": "ipython3",
   "version": "3.7.1"
  }
 },
 "nbformat": 4,
 "nbformat_minor": 2
}
