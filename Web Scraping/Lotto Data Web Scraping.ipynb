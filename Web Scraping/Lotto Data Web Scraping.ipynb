{
 "cells": [
  {
   "cell_type": "markdown",
   "metadata": {},
   "source": [
    "# Lotto Data Web Scrapping "
   ]
  },
  {
   "cell_type": "markdown",
   "metadata": {},
   "source": [
    "### Data source: http://www.lotto-archive.com"
   ]
  },
  {
   "cell_type": "code",
   "execution_count": 2,
   "metadata": {
    "collapsed": false
   },
   "outputs": [],
   "source": [
    "import urllib.request\n",
    "from bs4 import BeautifulSoup\n",
    "import pandas as pd"
   ]
  },
  {
   "cell_type": "code",
   "execution_count": 100,
   "metadata": {
    "collapsed": false
   },
   "outputs": [
    {
     "name": "stdout",
     "output_type": "stream",
     "text": [
      "http://www.lotto-archive.com/archive/games/page:8?date_start=2010-01-01&date_end=2017-09-29&game=0\n"
     ]
    }
   ],
   "source": [
    "# example of a url\n",
    "url_ex = \"http://www.lotto-archive.com/archive/games/page:8?date_start=2010-01-01&date_end=2017-09-29&game=0\"\n",
    "print(url_ex)\n"
   ]
  },
  {
   "cell_type": "code",
   "execution_count": 102,
   "metadata": {
    "collapsed": false
   },
   "outputs": [
    {
     "name": "stdout",
     "output_type": "stream",
     "text": [
      "Extracting on page:1 of 38\n",
      "Extracting on page:2 of 38\n",
      "Extracting on page:3 of 38\n",
      "Extracting on page:4 of 38\n",
      "Extracting on page:5 of 38\n",
      "Extracting on page:6 of 38\n",
      "Extracting on page:7 of 38\n",
      "Extracting on page:8 of 38\n",
      "Extracting on page:9 of 38\n",
      "Extracting on page:10 of 38\n",
      "Extracting on page:11 of 38\n",
      "Extracting on page:12 of 38\n",
      "Extracting on page:13 of 38\n",
      "Extracting on page:14 of 38\n",
      "Extracting on page:15 of 38\n",
      "Extracting on page:16 of 38\n",
      "Extracting on page:17 of 38\n",
      "Extracting on page:18 of 38\n",
      "Extracting on page:19 of 38\n",
      "Extracting on page:20 of 38\n",
      "Extracting on page:21 of 38\n",
      "Extracting on page:22 of 38\n",
      "Extracting on page:23 of 38\n",
      "Extracting on page:24 of 38\n",
      "Extracting on page:25 of 38\n",
      "Extracting on page:26 of 38\n",
      "Extracting on page:27 of 38\n",
      "Extracting on page:28 of 38\n",
      "Extracting on page:29 of 38\n",
      "Extracting on page:30 of 38\n",
      "Extracting on page:31 of 38\n",
      "Extracting on page:32 of 38\n",
      "Extracting on page:33 of 38\n",
      "Extracting on page:34 of 38\n",
      "Extracting on page:35 of 38\n",
      "Extracting on page:36 of 38\n",
      "Extracting on page:37 of 38\n",
      "Done\n"
     ]
    }
   ],
   "source": [
    "# we're going to create a loop that will read and extract necessary information on each page.\n",
    "# container of the results per page\n",
    "\n",
    "data = []\n",
    "# number of pages: 38\n",
    "\n",
    "# extracting the results on each page\n",
    "for i in range(1,38):\n",
    "    list_num = []\n",
    "    \n",
    "    print(\"Extracting on page:\"+str(i)+\" of 38\")\n",
    "    url = \"http://www.lotto-archive.com/archive/games/page:\"+str(i)+\"?date_start=2000-01-01&date_end=2017-09-29&game=0\"\n",
    "    content = urllib.request.urlopen(url).read()\n",
    "    soup = BeautifulSoup(content,\"html.parser\")\n",
    "    \n",
    "    for j in soup.find_all('tr'):\n",
    "        num = j.get_text()\n",
    "        list_num.append(num)\n",
    "    \n",
    "    data.append(list_num[3:])\n",
    "    #print(\"Done!\")\n",
    "    \n",
    "print(\"Done\")"
   ]
  },
  {
   "cell_type": "code",
   "execution_count": 103,
   "metadata": {
    "collapsed": false
   },
   "outputs": [],
   "source": [
    "results = []\n",
    "date = []\n",
    "jackpot = []\n",
    "num_winners = []\n",
    "\n",
    "for m in range(len(data)):\n",
    "    for k in range(len(data[m])):\n",
    "        result = (data[m][k]).split(\"\\n\")[1:len((data[m][k]).split(\"\\n\"))-1]\n",
    "        results.append(result[1])\n",
    "        date.append(result[2])\n",
    "        jackpot.append(result[3])\n",
    "        num_winners.append(result[4])\n",
    "        d = {'Date':date,'Results':results,'Jackpot':jackpot,'Number of Winners':num_winners}\n",
    "        df = pd.DataFrame(data=d)"
   ]
  },
  {
   "cell_type": "code",
   "execution_count": 114,
   "metadata": {
    "collapsed": false
   },
   "outputs": [
    {
     "data": {
      "text/plain": [
       "1850"
      ]
     },
     "execution_count": 114,
     "metadata": {},
     "output_type": "execute_result"
    }
   ],
   "source": []
  },
  {
   "cell_type": "code",
   "execution_count": 104,
   "metadata": {
    "collapsed": false
   },
   "outputs": [
    {
     "data": {
      "text/html": [
       "<div>\n",
       "<table border=\"1\" class=\"dataframe\">\n",
       "  <thead>\n",
       "    <tr style=\"text-align: right;\">\n",
       "      <th></th>\n",
       "      <th>Date</th>\n",
       "      <th>Jackpot</th>\n",
       "      <th>Number of Winners</th>\n",
       "      <th>Results</th>\n",
       "    </tr>\n",
       "  </thead>\n",
       "  <tbody>\n",
       "    <tr>\n",
       "      <th>0</th>\n",
       "      <td>2017-09-27</td>\n",
       "      <td>48,378.00</td>\n",
       "      <td>20</td>\n",
       "      <td>0-4-7-5</td>\n",
       "    </tr>\n",
       "    <tr>\n",
       "      <th>1</th>\n",
       "      <td>2017-09-25</td>\n",
       "      <td>10,353.00</td>\n",
       "      <td>99</td>\n",
       "      <td>2-5-6-0</td>\n",
       "    </tr>\n",
       "    <tr>\n",
       "      <th>2</th>\n",
       "      <td>2017-09-22</td>\n",
       "      <td>11,278.00</td>\n",
       "      <td>36</td>\n",
       "      <td>5-0-2-1</td>\n",
       "    </tr>\n",
       "    <tr>\n",
       "      <th>3</th>\n",
       "      <td>2017-09-20</td>\n",
       "      <td>15,809.00</td>\n",
       "      <td>49</td>\n",
       "      <td>0-9-4-8</td>\n",
       "    </tr>\n",
       "    <tr>\n",
       "      <th>4</th>\n",
       "      <td>2017-09-18</td>\n",
       "      <td>59,157.00</td>\n",
       "      <td>18</td>\n",
       "      <td>5-6-7-3</td>\n",
       "    </tr>\n",
       "  </tbody>\n",
       "</table>\n",
       "</div>"
      ],
      "text/plain": [
       "         Date    Jackpot Number of Winners  Results\n",
       "0  2017-09-27  48,378.00                20  0-4-7-5\n",
       "1  2017-09-25  10,353.00                99  2-5-6-0\n",
       "2  2017-09-22  11,278.00                36  5-0-2-1\n",
       "3  2017-09-20  15,809.00                49  0-9-4-8\n",
       "4  2017-09-18  59,157.00                18  5-6-7-3"
      ]
     },
     "execution_count": 104,
     "metadata": {},
     "output_type": "execute_result"
    }
   ],
   "source": [
    "df.head()"
   ]
  },
  {
   "cell_type": "markdown",
   "metadata": {},
   "source": [
    "## Saving the output as csv"
   ]
  },
  {
   "cell_type": "code",
   "execution_count": 106,
   "metadata": {
    "collapsed": false
   },
   "outputs": [],
   "source": [
    "df.to_csv(\"C:\\\\Users\\\\Lenovo\\\\Documents\\\\Jupyter Notebooks\\\\4digits.csv\")"
   ]
  },
  {
   "cell_type": "code",
   "execution_count": null,
   "metadata": {
    "collapsed": false
   },
   "outputs": [],
   "source": []
  },
  {
   "cell_type": "markdown",
   "metadata": {
    "collapsed": true
   },
   "source": [
    "# PCSO Lotto Results Archive (6Digit results)"
   ]
  },
  {
   "cell_type": "code",
   "execution_count": 31,
   "metadata": {
    "collapsed": false
   },
   "outputs": [],
   "source": [
    "url = \"http://www.lotto-archive.com/archive/games/?date_start=2017-01-01&date_end=2017-10-30&game=1\"\n",
    "content = urllib.request.urlopen(url).read()\n",
    "page = BeautifulSoup(content,\"html.parser\")"
   ]
  },
  {
   "cell_type": "code",
   "execution_count": 48,
   "metadata": {
    "collapsed": false
   },
   "outputs": [
    {
     "name": "stdout",
     "output_type": "stream",
     "text": [
      "[<a>«</a>, <a>1</a>, <a href=\"/archive/games/page:2?date_start=2017-01-01&amp;date_end=2017-10-30&amp;game=1\">2</a>, <a href=\"/archive/games/page:3?date_start=2017-01-01&amp;date_end=2017-10-30&amp;game=1\">3</a>, <a currentclass=\"page-item disabled\" href=\"/archive/games/page:2?date_start=2017-01-01&amp;date_end=2017-10-30&amp;game=1\" rel=\"next\">»</a>]\n"
     ]
    }
   ],
   "source": [
    "link_tag = page.select(\".pagination a\")\n",
    "print(link_tag)"
   ]
  },
  {
   "cell_type": "code",
   "execution_count": 46,
   "metadata": {
    "collapsed": false
   },
   "outputs": [
    {
     "name": "stdout",
     "output_type": "stream",
     "text": [
      "None\n",
      "None\n",
      "None\n",
      "None\n",
      "None\n"
     ]
    }
   ],
   "source": [
    "for link in link_tag:\n",
    "    url = link.get('href')\n",
    "    print(url)"
   ]
  },
  {
   "cell_type": "code",
   "execution_count": 43,
   "metadata": {
    "collapsed": false
   },
   "outputs": [],
   "source": [
    "#print(page.prettify())"
   ]
  },
  {
   "cell_type": "code",
   "execution_count": 44,
   "metadata": {
    "collapsed": false
   },
   "outputs": [
    {
     "name": "stdout",
     "output_type": "stream",
     "text": [
      "[<li class=\"page-item disabled\"><a>«</a></li>, <li class=\"active page-item\"><a>1</a></li>, <li class=\"page-item\"><a href=\"/archive/games/page:2?date_start=2017-01-01&amp;date_end=2017-10-30&amp;game=1\">2</a></li>, <li class=\"page-item\"><a href=\"/archive/games/page:3?date_start=2017-01-01&amp;date_end=2017-10-30&amp;game=1\">3</a></li>, <li class=\"page-item\"><a currentclass=\"page-item disabled\" href=\"/archive/games/page:2?date_start=2017-01-01&amp;date_end=2017-10-30&amp;game=1\" rel=\"next\">»</a></li>]\n"
     ]
    }
   ],
   "source": [
    "print(link_tag)"
   ]
  },
  {
   "cell_type": "code",
   "execution_count": null,
   "metadata": {
    "collapsed": true
   },
   "outputs": [],
   "source": []
  }
 ],
 "metadata": {
  "kernelspec": {
   "display_name": "Python 3",
   "language": "python",
   "name": "python3"
  },
  "language_info": {
   "codemirror_mode": {
    "name": "ipython",
    "version": 3
   },
   "file_extension": ".py",
   "mimetype": "text/x-python",
   "name": "python",
   "nbconvert_exporter": "python",
   "pygments_lexer": "ipython3",
   "version": "3.5.0"
  }
 },
 "nbformat": 4,
 "nbformat_minor": 0
}
